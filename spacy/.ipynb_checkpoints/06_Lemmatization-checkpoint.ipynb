{
 "cells": [
  {
   "cell_type": "code",
   "execution_count": 1,
   "metadata": {},
   "outputs": [],
   "source": [
    "import spacy\n",
    "nlp = spacy.load('en_core_web_sm')"
   ]
  },
  {
   "cell_type": "code",
   "execution_count": 3,
   "metadata": {},
   "outputs": [
    {
     "name": "stdout",
     "output_type": "stream",
     "text": [
      "I \t 95 \t 561228191312463089 \t -PRON-\n",
      "am \t 87 \t 10382539506755952630 \t be\n",
      "a \t 90 \t 11901859001352538922 \t a\n",
      "runner \t 92 \t 12640964157389618806 \t runner\n",
      "running \t 100 \t 12767647472892411841 \t run\n",
      "in \t 85 \t 3002984154512732771 \t in\n",
      "a \t 90 \t 11901859001352538922 \t a\n",
      "race \t 92 \t 8048469955494714898 \t race\n",
      "because \t 98 \t 16950148841647037698 \t because\n",
      "I \t 95 \t 561228191312463089 \t -PRON-\n",
      "love \t 100 \t 3702023516439754181 \t love\n",
      "to \t 94 \t 3791531372978436496 \t to\n",
      "run \t 100 \t 12767647472892411841 \t run\n",
      "since \t 98 \t 10066841407251338481 \t since\n",
      "I \t 95 \t 561228191312463089 \t -PRON-\n",
      "ran \t 100 \t 12767647472892411841 \t run\n",
      "today \t 92 \t 11042482332948150395 \t today\n"
     ]
    }
   ],
   "source": [
    "doc = nlp(u\"I am a runner running in a race because I love to run since I ran today\")\n",
    "for token in doc:\n",
    "    print(token.text,'\\t',token.pos,'\\t',token.lemma,'\\t',token.lemma_)"
   ]
  },
  {
   "cell_type": "code",
   "execution_count": 15,
   "metadata": {},
   "outputs": [],
   "source": [
    "def show_lemma(text):\n",
    "    for token in text:\n",
    "        print(f'{token.text:{12}} {token.pos_:{6}} {token.lemma:<{22}} {token.lemma_}')"
   ]
  },
  {
   "cell_type": "code",
   "execution_count": 16,
   "metadata": {},
   "outputs": [
    {
     "name": "stdout",
     "output_type": "stream",
     "text": [
      "I            PRON   561228191312463089     -PRON-\n",
      "am           AUX    10382539506755952630   be\n",
      "a            DET    11901859001352538922   a\n",
      "runner       NOUN   12640964157389618806   runner\n",
      "running      VERB   12767647472892411841   run\n",
      "in           ADP    3002984154512732771    in\n",
      "a            DET    11901859001352538922   a\n",
      "race         NOUN   8048469955494714898    race\n",
      "because      SCONJ  16950148841647037698   because\n",
      "I            PRON   561228191312463089     -PRON-\n",
      "love         VERB   3702023516439754181    love\n",
      "to           PART   3791531372978436496    to\n",
      "run          VERB   12767647472892411841   run\n",
      "since        SCONJ  10066841407251338481   since\n",
      "I            PRON   561228191312463089     -PRON-\n",
      "ran          VERB   12767647472892411841   run\n",
      "today        NOUN   11042482332948150395   today\n"
     ]
    }
   ],
   "source": [
    "show_lemma(doc)"
   ]
  },
  {
   "cell_type": "code",
   "execution_count": null,
   "metadata": {},
   "outputs": [],
   "source": []
  }
 ],
 "metadata": {
  "kernelspec": {
   "display_name": "Python 3",
   "language": "python",
   "name": "python3"
  },
  "language_info": {
   "codemirror_mode": {
    "name": "ipython",
    "version": 3
   },
   "file_extension": ".py",
   "mimetype": "text/x-python",
   "name": "python",
   "nbconvert_exporter": "python",
   "pygments_lexer": "ipython3",
   "version": "3.7.9"
  }
 },
 "nbformat": 4,
 "nbformat_minor": 4
}
